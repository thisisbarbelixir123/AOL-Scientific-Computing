{
  "nbformat": 4,
  "nbformat_minor": 0,
  "metadata": {
    "colab": {
      "provenance": []
    },
    "kernelspec": {
      "name": "python3",
      "display_name": "Python 3"
    },
    "language_info": {
      "name": "python"
    }
  },
  "cells": [
    {
      "cell_type": "markdown",
      "source": [
        "Rumus Taylor series orde 4:\n",
        "\n",
        "sin(x) = x - (x^3 / 3!) + (x^5 / 5!) - (x^7 / 7!) + ...\n",
        "\n",
        "cos(x) = 1 - (x^2 / 2!) + (x^4 / 4!) - (x^6 / 6!) + ...\n",
        "\n",
        "sin(x)cos(x) = x - (x^3 / 3!) + (x^5 / 5) - (x^7  / 7!) + ..."
      ],
      "metadata": {
        "id": "r7_CoTtPWd8R"
      }
    },
    {
      "cell_type": "code",
      "execution_count": 4,
      "metadata": {
        "colab": {
          "base_uri": "https://localhost:8080/"
        },
        "id": "mowfz6zx9BcJ",
        "outputId": "21a03e4d-491d-4a9c-92d5-a6c41b5b7ac5"
      },
      "outputs": [
        {
          "output_type": "stream",
          "name": "stdout",
          "text": [
            "sin(pi/2) approximation: 0.9998431013994987\n",
            "cos(pi/2) approximation: -0.0008945229984747317\n",
            "sin(pi/2)cos(pi/2) approximation: -0.0008943826490681549\n"
          ]
        }
      ],
      "source": [
        "import math\n",
        "\n",
        "def taylor_sin(x):\n",
        "  return x - (x ** 3) / math.factorial(3) + (x ** 5) / math.factorial(5) - (x ** 7) / math.factorial(7)\n",
        "\n",
        "def taylor_cos(x):\n",
        "  return 1 - (x ** 2) / math.factorial(2) + (x ** 4) / math.factorial(4) - (x ** 6) / math.factorial(6)\n",
        "\n",
        "def taylor_sin_cos(x):\n",
        "  return taylor_sin(x) * taylor_cos(x)\n",
        "\n",
        "x = math.pi / 2\n",
        "\n",
        "sin_approx = taylor_sin(x)\n",
        "cos_approx = taylor_cos(x)\n",
        "sin_cos_approx = taylor_sin_cos(x)\n",
        "\n",
        "print(\"sin(pi/2) approximation:\", sin_approx)\n",
        "print(\"cos(pi/2) approximation:\", cos_approx)\n",
        "print(\"sin(pi/2)cos(pi/2) approximation:\", sin_cos_approx)"
      ]
    },
    {
      "cell_type": "code",
      "source": [
        "import math\n",
        "def taylor_sin(x):\n",
        "  return x - (x ** 3) / math.factorial(3) + (x ** 5) / math.factorial(5) - (x ** 7) / math.factorial(7)\n",
        "\n",
        "def taylor_cos(x):\n",
        "  return 1 - (x ** 2) / math.factorial(2) + (x ** 4) / math.factorial(4) - (x ** 6) / math.factorial(6)\n",
        "\n",
        "def taylor_sin_cos(x):\n",
        "  return taylor_sin(x) * taylor_cos(x)\n",
        "\n",
        "x = math.pi / 2\n",
        "\n",
        "sin_cos_separate = taylor_sin(x) * taylor_cos(x)\n",
        "sin_cos_together = taylor_sin_cos(x)\n",
        "\n",
        "exact_value = math.sin(x) * math.cos(x)\n",
        "\n",
        "err_separate = abs(exact_value - sin_cos_separate)\n",
        "err_together = abs(exact_value - sin_cos_together)\n",
        "\n",
        "print(\"Error (separate):\", err_separate)\n",
        "print(\"Error (together):\", err_together)"
      ],
      "metadata": {
        "colab": {
          "base_uri": "https://localhost:8080/"
        },
        "id": "pfb4WvpV7A7v",
        "outputId": "0c273228-67cb-462e-9a44-3845f48ad3ca"
      },
      "execution_count": 6,
      "outputs": [
        {
          "output_type": "stream",
          "name": "stdout",
          "text": [
            "Error (separate): 0.0008943826490682162\n",
            "Error (together): 0.0008943826490682162\n"
          ]
        }
      ]
    },
    {
      "cell_type": "markdown",
      "source": [
        "Dari hasil diatas, dapat disimpulkan bahwa tidak ada perbedaan antara kedua metode (separate dan together)"
      ],
      "metadata": {
        "id": "s1jNfF4NH3RG"
      }
    },
    {
      "cell_type": "code",
      "source": [
        "import math\n",
        "\n",
        "x = math.pi / 4\n",
        "\n",
        "cos_approx = 1 - (x ** 2) / math.factorial (2) + (x ** 4)\n",
        "truncation_error_bound = (x ** 6) / math.factorial(6)\n",
        "\n",
        "print(\"cos(pi/4) approximation:\", cos_approx)\n",
        "print(\"Truncation error bound:\", truncation_error_bound)"
      ],
      "metadata": {
        "colab": {
          "base_uri": "https://localhost:8080/"
        },
        "id": "tmwWkrhJzCbE",
        "outputId": "0804d22f-1b0e-4261-b86e-7b52bc3568d4"
      },
      "execution_count": 7,
      "outputs": [
        {
          "output_type": "stream",
          "name": "stdout",
          "text": [
            "cos(pi/4) approximation: 1.0720791243175296\n",
            "Truncation error bound: 0.00032599188692738996\n"
          ]
        }
      ]
    }
  ]
}