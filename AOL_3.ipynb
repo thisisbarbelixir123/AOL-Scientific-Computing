{
  "nbformat": 4,
  "nbformat_minor": 0,
  "metadata": {
    "colab": {
      "provenance": []
    },
    "kernelspec": {
      "name": "python3",
      "display_name": "Python 3"
    },
    "language_info": {
      "name": "python"
    }
  },
  "cells": [
    {
      "cell_type": "markdown",
      "source": [
        "Riemann Integral"
      ],
      "metadata": {
        "id": "Hwk5w7C2LxT7"
      }
    },
    {
      "cell_type": "code",
      "execution_count": 2,
      "metadata": {
        "colab": {
          "base_uri": "https://localhost:8080/"
        },
        "id": "yLg2XOTF_ixN",
        "outputId": "904d9c22-768e-4a9d-c175-eeef27258b7f"
      },
      "outputs": [
        {
          "output_type": "stream",
          "name": "stdout",
          "text": [
            "Riemann Integral Approximation: 221.23227110838238\n"
          ]
        }
      ],
      "source": [
        "import numpy as np\n",
        "\n",
        "def f(x):\n",
        "  return x**3 - 0.3*x**2 - 8.56*x + 8.448\n",
        "\n",
        "a = 0\n",
        "b = 2 * np.pi\n",
        "n = 20\n",
        "\n",
        "x_values = np.linspace(a, b, n+1)\n",
        "y_values = f(x_values)\n",
        "\n",
        "riemann_approx = np.sum(y_values[:-1]) * (b-a) / n\n",
        "print (\"Riemann Integral Approximation:\", riemann_approx)"
      ]
    },
    {
      "cell_type": "markdown",
      "source": [
        "Trapezoid Rule"
      ],
      "metadata": {
        "id": "HOZ7-GTgQfmu"
      }
    },
    {
      "cell_type": "code",
      "source": [
        "trapezoid_approx = np.trapz(y_values, x_values)\n",
        "print (\"Trapezoid Rule Approximation:\", trapezoid_approx)"
      ],
      "metadata": {
        "colab": {
          "base_uri": "https://localhost:8080/"
        },
        "id": "1SwUQlkxQiyH",
        "outputId": "5b7f99ee-92e7-46b2-fe7d-f7cf4d6c3b14"
      },
      "execution_count": 3,
      "outputs": [
        {
          "output_type": "stream",
          "name": "stdout",
          "text": [
            "Trapezoid Rule Approximation: 249.8871495538329\n"
          ]
        }
      ]
    },
    {
      "cell_type": "markdown",
      "source": [
        "Simpson's Rule"
      ],
      "metadata": {
        "id": "LUtEumMIQvmP"
      }
    },
    {
      "cell_type": "code",
      "source": [
        "from scipy.integrate import simps\n",
        "\n",
        "simpsons_approx = simps(y_values, x_values)\n",
        "print(\"Simpson's Rule Approximation:\", simpsons_approx)"
      ],
      "metadata": {
        "colab": {
          "base_uri": "https://localhost:8080/"
        },
        "id": "HDVYLaKZQyRH",
        "outputId": "4a2704e4-c627-4dcc-a26f-554f194241af"
      },
      "execution_count": 7,
      "outputs": [
        {
          "output_type": "stream",
          "name": "stdout",
          "text": [
            "Simpson's Rule Approximation: 248.94406492017316\n"
          ]
        }
      ]
    },
    {
      "cell_type": "markdown",
      "source": [
        "Tidak semua fungsi mempunyai integral yang diketahui. Metode numerik seperti Riemann, Trapezoid, dan Simpson digunakan untuk mendekati integral."
      ],
      "metadata": {
        "id": "kWTf-Hh0RlN-"
      }
    },
    {
      "cell_type": "code",
      "source": [
        "from scipy.interpolate import lagrange\n",
        "\n",
        "x_values = [-1.1, -0.3, 0.8, 1.9]\n",
        "f_values = [15.180, 10.962, 1.920, -2.040]\n",
        "\n",
        "# Perform polynomial interpolation\n",
        "polynomial = lagrange(x_values, f_values)\n",
        "\n",
        "#Compute f'(x) at x = 0\n",
        "f_prime_0 = polynomial.deriv(1)(0)\n",
        "\n",
        "#Compute f''(x) at x = 0\n",
        "f_double_prime_0 = polynomial.deriv(2)(0)\n",
        "\n",
        "print(\"f'(0) approximation:\", f_prime_0)\n",
        "print(\"f''(0) approximation:\", f_double_prime_0)"
      ],
      "metadata": {
        "colab": {
          "base_uri": "https://localhost:8080/"
        },
        "id": "-1w6kDRbRkhP",
        "outputId": "9d9ad185-eba9-4e39-a660-a1dcb2d7a80d"
      },
      "execution_count": 1,
      "outputs": [
        {
          "output_type": "stream",
          "name": "stdout",
          "text": [
            "f'(0) approximation: -8.405855263157896\n",
            "f''(0) approximation: -1.6421052631578998\n"
          ]
        }
      ]
    },
    {
      "cell_type": "code",
      "source": [
        "import numpy as np\n",
        "\n",
        "x_values = np.array([-1.1, -0.3, 0.8, 1.9])\n",
        "f_values = np.array([15.180, 10.962, 1.920, -2.040])\n",
        "\n",
        "# Perform polynomial interpolation\n",
        "polynomial = lagrange(x_values, f_values)\n",
        "\n",
        "#Compute interpolated values\n",
        "interpol_values = polynomial(x_values)\n",
        "\n",
        "#Compute accuracy result\n",
        "accuracy_result = np.abs(f_values - interpol_values)\n",
        "\n",
        "print(\"Accuracy result:\", accuracy_result)"
      ],
      "metadata": {
        "colab": {
          "base_uri": "https://localhost:8080/"
        },
        "id": "_9wmWtH46x7S",
        "outputId": "3c5b6389-e447-4312-b372-bea9929424ad"
      },
      "execution_count": 4,
      "outputs": [
        {
          "output_type": "stream",
          "name": "stdout",
          "text": [
            "Accuracy result: [1.77635684e-15 0.00000000e+00 1.77635684e-15 2.66453526e-15]\n"
          ]
        }
      ]
    }
  ]
}